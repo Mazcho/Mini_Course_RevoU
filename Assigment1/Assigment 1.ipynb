{
 "cells": [
  {
   "cell_type": "markdown",
   "id": "246fd39d",
   "metadata": {},
   "source": [
    "Nama        :  Nicholaus Verdhy Putranto\n",
    "\n",
    "Assigment 1 : games sales analytic"
   ]
  },
  {
   "cell_type": "markdown",
   "id": "af05448b",
   "metadata": {},
   "source": [
    "# Import dataset"
   ]
  },
  {
   "cell_type": "code",
   "execution_count": 46,
   "id": "6703851b",
   "metadata": {},
   "outputs": [],
   "source": [
    "import pandas as pd\n",
    "import numpy as np\n",
    "import matplotlib.pyplot as plt\n",
    "import seaborn as sns"
   ]
  },
  {
   "cell_type": "markdown",
   "id": "4997b227",
   "metadata": {},
   "source": [
    "# Load dataset"
   ]
  },
  {
   "cell_type": "code",
   "execution_count": 47,
   "id": "f2194468",
   "metadata": {},
   "outputs": [],
   "source": [
    "df = pd.read_csv(\"Games Sales - Case Study - Games (1).csv\")"
   ]
  },
  {
   "cell_type": "code",
   "execution_count": 48,
   "id": "3d1c4264",
   "metadata": {},
   "outputs": [
    {
     "data": {
      "text/html": [
       "<div>\n",
       "<style scoped>\n",
       "    .dataframe tbody tr th:only-of-type {\n",
       "        vertical-align: middle;\n",
       "    }\n",
       "\n",
       "    .dataframe tbody tr th {\n",
       "        vertical-align: top;\n",
       "    }\n",
       "\n",
       "    .dataframe thead th {\n",
       "        text-align: right;\n",
       "    }\n",
       "</style>\n",
       "<table border=\"1\" class=\"dataframe\">\n",
       "  <thead>\n",
       "    <tr style=\"text-align: right;\">\n",
       "      <th></th>\n",
       "      <th>Name</th>\n",
       "      <th>Sales</th>\n",
       "      <th>Series</th>\n",
       "      <th>Release</th>\n",
       "      <th>Genre</th>\n",
       "      <th>Developer</th>\n",
       "      <th>Publisher</th>\n",
       "    </tr>\n",
       "  </thead>\n",
       "  <tbody>\n",
       "    <tr>\n",
       "      <th>0</th>\n",
       "      <td>PlayerUnknown's Battlegrounds</td>\n",
       "      <td>42.0</td>\n",
       "      <td>NaN</td>\n",
       "      <td>12/1/2017</td>\n",
       "      <td>Battle royale</td>\n",
       "      <td>PUBG Studios</td>\n",
       "      <td>Krafton</td>\n",
       "    </tr>\n",
       "    <tr>\n",
       "      <th>1</th>\n",
       "      <td>Minecraft</td>\n",
       "      <td>33.0</td>\n",
       "      <td>Minecraft</td>\n",
       "      <td>11/1/2011</td>\n",
       "      <td>Sandbox, survival</td>\n",
       "      <td>Mojang Studios</td>\n",
       "      <td>Mojang Studios</td>\n",
       "    </tr>\n",
       "    <tr>\n",
       "      <th>2</th>\n",
       "      <td>Diablo III</td>\n",
       "      <td>20.0</td>\n",
       "      <td>Diablo</td>\n",
       "      <td>5/1/2012</td>\n",
       "      <td>Action role-playing</td>\n",
       "      <td>Blizzard Entertainment</td>\n",
       "      <td>Blizzard Entertainment</td>\n",
       "    </tr>\n",
       "    <tr>\n",
       "      <th>3</th>\n",
       "      <td>Garry's Mod</td>\n",
       "      <td>20.0</td>\n",
       "      <td>NaN</td>\n",
       "      <td>11/1/2006</td>\n",
       "      <td>Sandbox</td>\n",
       "      <td>Facepunch Studios</td>\n",
       "      <td>Valve</td>\n",
       "    </tr>\n",
       "    <tr>\n",
       "      <th>4</th>\n",
       "      <td>Terraria</td>\n",
       "      <td>17.2</td>\n",
       "      <td>NaN</td>\n",
       "      <td>5/1/2011</td>\n",
       "      <td>Action-adventure</td>\n",
       "      <td>Re-Logic</td>\n",
       "      <td>Re-Logic</td>\n",
       "    </tr>\n",
       "    <tr>\n",
       "      <th>...</th>\n",
       "      <td>...</td>\n",
       "      <td>...</td>\n",
       "      <td>...</td>\n",
       "      <td>...</td>\n",
       "      <td>...</td>\n",
       "      <td>...</td>\n",
       "      <td>...</td>\n",
       "    </tr>\n",
       "    <tr>\n",
       "      <th>172</th>\n",
       "      <td>Who Wants to Be a Millionaire?</td>\n",
       "      <td>1.0</td>\n",
       "      <td>NaN</td>\n",
       "      <td>11/1/1999</td>\n",
       "      <td>Trivia game</td>\n",
       "      <td>Jellyvision</td>\n",
       "      <td>Disney Interactive Studios</td>\n",
       "    </tr>\n",
       "    <tr>\n",
       "      <th>173</th>\n",
       "      <td>Wing Commander 3: Heart of the Tiger</td>\n",
       "      <td>1.0</td>\n",
       "      <td>Wing Commander</td>\n",
       "      <td>12/1/1994</td>\n",
       "      <td>Space combat simulation</td>\n",
       "      <td>Origin Systems</td>\n",
       "      <td>Electronic Arts</td>\n",
       "    </tr>\n",
       "    <tr>\n",
       "      <th>174</th>\n",
       "      <td>Zoo Tycoon</td>\n",
       "      <td>1.0</td>\n",
       "      <td>Zoo Tycoon</td>\n",
       "      <td>10/1/2001</td>\n",
       "      <td>Business simulation</td>\n",
       "      <td>Microsoft</td>\n",
       "      <td>Blue Fang Games</td>\n",
       "    </tr>\n",
       "    <tr>\n",
       "      <th>175</th>\n",
       "      <td>StarCraft II: Heart of the Swarm</td>\n",
       "      <td>1.0</td>\n",
       "      <td>StarCraft</td>\n",
       "      <td>3/1/2013</td>\n",
       "      <td>Real-time strategy</td>\n",
       "      <td>Blizzard Entertainment</td>\n",
       "      <td>Blizzard Entertainment</td>\n",
       "    </tr>\n",
       "    <tr>\n",
       "      <th>176</th>\n",
       "      <td>StarCraft II: Legacy of the Void</td>\n",
       "      <td>1.0</td>\n",
       "      <td>StarCraft</td>\n",
       "      <td>11/1/2015</td>\n",
       "      <td>Real-time strategy</td>\n",
       "      <td>Blizzard Entertainment</td>\n",
       "      <td>Blizzard Entertainment</td>\n",
       "    </tr>\n",
       "  </tbody>\n",
       "</table>\n",
       "<p>177 rows × 7 columns</p>\n",
       "</div>"
      ],
      "text/plain": [
       "                                     Name  Sales          Series    Release  \\\n",
       "0           PlayerUnknown's Battlegrounds   42.0             NaN  12/1/2017   \n",
       "1                               Minecraft   33.0       Minecraft  11/1/2011   \n",
       "2                              Diablo III   20.0          Diablo   5/1/2012   \n",
       "3                             Garry's Mod   20.0             NaN  11/1/2006   \n",
       "4                                Terraria   17.2             NaN   5/1/2011   \n",
       "..                                    ...    ...             ...        ...   \n",
       "172        Who Wants to Be a Millionaire?    1.0             NaN  11/1/1999   \n",
       "173  Wing Commander 3: Heart of the Tiger    1.0  Wing Commander  12/1/1994   \n",
       "174                            Zoo Tycoon    1.0      Zoo Tycoon  10/1/2001   \n",
       "175      StarCraft II: Heart of the Swarm    1.0       StarCraft   3/1/2013   \n",
       "176      StarCraft II: Legacy of the Void    1.0       StarCraft  11/1/2015   \n",
       "\n",
       "                       Genre               Developer  \\\n",
       "0              Battle royale            PUBG Studios   \n",
       "1          Sandbox, survival          Mojang Studios   \n",
       "2        Action role-playing  Blizzard Entertainment   \n",
       "3                    Sandbox       Facepunch Studios   \n",
       "4           Action-adventure                Re-Logic   \n",
       "..                       ...                     ...   \n",
       "172              Trivia game             Jellyvision   \n",
       "173  Space combat simulation          Origin Systems   \n",
       "174      Business simulation               Microsoft   \n",
       "175       Real-time strategy  Blizzard Entertainment   \n",
       "176       Real-time strategy  Blizzard Entertainment   \n",
       "\n",
       "                      Publisher  \n",
       "0                       Krafton  \n",
       "1                Mojang Studios  \n",
       "2        Blizzard Entertainment  \n",
       "3                         Valve  \n",
       "4                      Re-Logic  \n",
       "..                          ...  \n",
       "172  Disney Interactive Studios  \n",
       "173             Electronic Arts  \n",
       "174             Blue Fang Games  \n",
       "175      Blizzard Entertainment  \n",
       "176      Blizzard Entertainment  \n",
       "\n",
       "[177 rows x 7 columns]"
      ]
     },
     "execution_count": 48,
     "metadata": {},
     "output_type": "execute_result"
    }
   ],
   "source": [
    "df"
   ]
  },
  {
   "cell_type": "markdown",
   "id": "95c68cca",
   "metadata": {},
   "source": [
    "# Data Understanding"
   ]
  },
  {
   "cell_type": "code",
   "execution_count": 49,
   "id": "79336b47",
   "metadata": {},
   "outputs": [
    {
     "data": {
      "text/plain": [
       "(177, 7)"
      ]
     },
     "execution_count": 49,
     "metadata": {},
     "output_type": "execute_result"
    }
   ],
   "source": [
    "df.shape"
   ]
  },
  {
   "cell_type": "code",
   "execution_count": 50,
   "id": "a188a9ae",
   "metadata": {},
   "outputs": [
    {
     "data": {
      "text/plain": [
       "Name          0\n",
       "Sales         0\n",
       "Series       36\n",
       "Release       0\n",
       "Genre         0\n",
       "Developer     0\n",
       "Publisher     0\n",
       "dtype: int64"
      ]
     },
     "execution_count": 50,
     "metadata": {},
     "output_type": "execute_result"
    }
   ],
   "source": [
    "df.isna().sum()"
   ]
  },
  {
   "cell_type": "code",
   "execution_count": 51,
   "id": "dac7da6e",
   "metadata": {},
   "outputs": [
    {
     "data": {
      "text/plain": [
       "2"
      ]
     },
     "execution_count": 51,
     "metadata": {},
     "output_type": "execute_result"
    }
   ],
   "source": [
    "df.duplicated().sum()"
   ]
  },
  {
   "cell_type": "code",
   "execution_count": 52,
   "id": "fdcf8741",
   "metadata": {},
   "outputs": [
    {
     "name": "stdout",
     "output_type": "stream",
     "text": [
      "<class 'pandas.core.frame.DataFrame'>\n",
      "RangeIndex: 177 entries, 0 to 176\n",
      "Data columns (total 7 columns):\n",
      " #   Column     Non-Null Count  Dtype  \n",
      "---  ------     --------------  -----  \n",
      " 0   Name       177 non-null    object \n",
      " 1   Sales      177 non-null    float64\n",
      " 2   Series     141 non-null    object \n",
      " 3   Release    177 non-null    object \n",
      " 4   Genre      177 non-null    object \n",
      " 5   Developer  177 non-null    object \n",
      " 6   Publisher  177 non-null    object \n",
      "dtypes: float64(1), object(6)\n",
      "memory usage: 9.8+ KB\n"
     ]
    }
   ],
   "source": [
    "df.info()"
   ]
  },
  {
   "cell_type": "code",
   "execution_count": 53,
   "id": "85bd9dd5",
   "metadata": {},
   "outputs": [
    {
     "data": {
      "text/html": [
       "<div>\n",
       "<style scoped>\n",
       "    .dataframe tbody tr th:only-of-type {\n",
       "        vertical-align: middle;\n",
       "    }\n",
       "\n",
       "    .dataframe tbody tr th {\n",
       "        vertical-align: top;\n",
       "    }\n",
       "\n",
       "    .dataframe thead th {\n",
       "        text-align: right;\n",
       "    }\n",
       "</style>\n",
       "<table border=\"1\" class=\"dataframe\">\n",
       "  <thead>\n",
       "    <tr style=\"text-align: right;\">\n",
       "      <th></th>\n",
       "      <th>Sales</th>\n",
       "    </tr>\n",
       "  </thead>\n",
       "  <tbody>\n",
       "    <tr>\n",
       "      <th>count</th>\n",
       "      <td>177.000000</td>\n",
       "    </tr>\n",
       "    <tr>\n",
       "      <th>mean</th>\n",
       "      <td>3.116949</td>\n",
       "    </tr>\n",
       "    <tr>\n",
       "      <th>std</th>\n",
       "      <td>4.937466</td>\n",
       "    </tr>\n",
       "    <tr>\n",
       "      <th>min</th>\n",
       "      <td>1.000000</td>\n",
       "    </tr>\n",
       "    <tr>\n",
       "      <th>25%</th>\n",
       "      <td>1.000000</td>\n",
       "    </tr>\n",
       "    <tr>\n",
       "      <th>50%</th>\n",
       "      <td>1.500000</td>\n",
       "    </tr>\n",
       "    <tr>\n",
       "      <th>75%</th>\n",
       "      <td>3.000000</td>\n",
       "    </tr>\n",
       "    <tr>\n",
       "      <th>max</th>\n",
       "      <td>42.000000</td>\n",
       "    </tr>\n",
       "  </tbody>\n",
       "</table>\n",
       "</div>"
      ],
      "text/plain": [
       "            Sales\n",
       "count  177.000000\n",
       "mean     3.116949\n",
       "std      4.937466\n",
       "min      1.000000\n",
       "25%      1.000000\n",
       "50%      1.500000\n",
       "75%      3.000000\n",
       "max     42.000000"
      ]
     },
     "execution_count": 53,
     "metadata": {},
     "output_type": "execute_result"
    }
   ],
   "source": [
    "df.describe()"
   ]
  },
  {
   "cell_type": "markdown",
   "id": "3005aa8f",
   "metadata": {},
   "source": [
    "# Data Cleansing"
   ]
  },
  {
   "cell_type": "code",
   "execution_count": 54,
   "id": "d387d252",
   "metadata": {},
   "outputs": [],
   "source": [
    "df.drop_duplicates(inplace=True)"
   ]
  },
  {
   "cell_type": "markdown",
   "id": "cfddaa95",
   "metadata": {},
   "source": [
    "# Data Preparation"
   ]
  },
  {
   "cell_type": "code",
   "execution_count": 55,
   "id": "0f2e9828",
   "metadata": {},
   "outputs": [],
   "source": [
    "df[\"Release\"] = pd.to_datetime(df[\"Release\"])"
   ]
  },
  {
   "cell_type": "code",
   "execution_count": 56,
   "id": "264010b8",
   "metadata": {},
   "outputs": [
    {
     "name": "stdout",
     "output_type": "stream",
     "text": [
      "<class 'pandas.core.frame.DataFrame'>\n",
      "Int64Index: 175 entries, 0 to 174\n",
      "Data columns (total 7 columns):\n",
      " #   Column     Non-Null Count  Dtype         \n",
      "---  ------     --------------  -----         \n",
      " 0   Name       175 non-null    object        \n",
      " 1   Sales      175 non-null    float64       \n",
      " 2   Series     139 non-null    object        \n",
      " 3   Release    175 non-null    datetime64[ns]\n",
      " 4   Genre      175 non-null    object        \n",
      " 5   Developer  175 non-null    object        \n",
      " 6   Publisher  175 non-null    object        \n",
      "dtypes: datetime64[ns](1), float64(1), object(5)\n",
      "memory usage: 10.9+ KB\n"
     ]
    }
   ],
   "source": [
    "df.info()"
   ]
  },
  {
   "cell_type": "markdown",
   "id": "807c6e62",
   "metadata": {},
   "source": [
    "# Analisis Data"
   ]
  },
  {
   "cell_type": "code",
   "execution_count": 57,
   "id": "9c8999f4",
   "metadata": {},
   "outputs": [
    {
     "data": {
      "text/html": [
       "<div>\n",
       "<style scoped>\n",
       "    .dataframe tbody tr th:only-of-type {\n",
       "        vertical-align: middle;\n",
       "    }\n",
       "\n",
       "    .dataframe tbody tr th {\n",
       "        vertical-align: top;\n",
       "    }\n",
       "\n",
       "    .dataframe thead th {\n",
       "        text-align: right;\n",
       "    }\n",
       "</style>\n",
       "<table border=\"1\" class=\"dataframe\">\n",
       "  <thead>\n",
       "    <tr style=\"text-align: right;\">\n",
       "      <th></th>\n",
       "      <th>Name</th>\n",
       "      <th>Sales</th>\n",
       "      <th>Series</th>\n",
       "      <th>Release</th>\n",
       "      <th>Genre</th>\n",
       "      <th>Developer</th>\n",
       "      <th>Publisher</th>\n",
       "    </tr>\n",
       "  </thead>\n",
       "  <tbody>\n",
       "    <tr>\n",
       "      <th>133</th>\n",
       "      <td>Hydlide</td>\n",
       "      <td>1.0</td>\n",
       "      <td>Hydlide</td>\n",
       "      <td>1984-12-01</td>\n",
       "      <td>Action role-playing</td>\n",
       "      <td>Technology and Entertainment Software</td>\n",
       "      <td>Technology and Entertainment Software</td>\n",
       "    </tr>\n",
       "    <tr>\n",
       "      <th>34</th>\n",
       "      <td>Where in the World Is Carmen Sandiego?</td>\n",
       "      <td>4.0</td>\n",
       "      <td>Carmen Sandiego</td>\n",
       "      <td>1985-06-01</td>\n",
       "      <td>Educational</td>\n",
       "      <td>Broderbund</td>\n",
       "      <td>Broderbund</td>\n",
       "    </tr>\n",
       "    <tr>\n",
       "      <th>88</th>\n",
       "      <td>International Karate</td>\n",
       "      <td>1.5</td>\n",
       "      <td>International Karate</td>\n",
       "      <td>1985-11-01</td>\n",
       "      <td>Fighting</td>\n",
       "      <td>System 3</td>\n",
       "      <td>Epyx</td>\n",
       "    </tr>\n",
       "    <tr>\n",
       "      <th>162</th>\n",
       "      <td>Tetris</td>\n",
       "      <td>1.0</td>\n",
       "      <td>Tetris</td>\n",
       "      <td>1988-01-01</td>\n",
       "      <td>Puzzle</td>\n",
       "      <td>Spectrum HoloByte</td>\n",
       "      <td>Spectrum HoloByte</td>\n",
       "    </tr>\n",
       "    <tr>\n",
       "      <th>22</th>\n",
       "      <td>Last Ninja 2</td>\n",
       "      <td>5.5</td>\n",
       "      <td>The Last Ninja</td>\n",
       "      <td>1988-08-01</td>\n",
       "      <td>Action-adventure</td>\n",
       "      <td>System 3</td>\n",
       "      <td>Activision</td>\n",
       "    </tr>\n",
       "    <tr>\n",
       "      <th>...</th>\n",
       "      <td>...</td>\n",
       "      <td>...</td>\n",
       "      <td>...</td>\n",
       "      <td>...</td>\n",
       "      <td>...</td>\n",
       "      <td>...</td>\n",
       "      <td>...</td>\n",
       "    </tr>\n",
       "    <tr>\n",
       "      <th>139</th>\n",
       "      <td>Mordhau</td>\n",
       "      <td>1.0</td>\n",
       "      <td>NaN</td>\n",
       "      <td>2019-04-01</td>\n",
       "      <td>Action</td>\n",
       "      <td>Triternion</td>\n",
       "      <td>Triternion</td>\n",
       "    </tr>\n",
       "    <tr>\n",
       "      <th>10</th>\n",
       "      <td>Fall Guys</td>\n",
       "      <td>10.0</td>\n",
       "      <td>NaN</td>\n",
       "      <td>2020-08-01</td>\n",
       "      <td>Battle royale</td>\n",
       "      <td>Mediatonic</td>\n",
       "      <td>Devolver Digital</td>\n",
       "    </tr>\n",
       "    <tr>\n",
       "      <th>110</th>\n",
       "      <td>Crusader Kings III</td>\n",
       "      <td>1.0</td>\n",
       "      <td>Crusader Kings</td>\n",
       "      <td>2020-09-01</td>\n",
       "      <td>Grand strategy</td>\n",
       "      <td>Paradox Development Studio</td>\n",
       "      <td>Paradox Interactive</td>\n",
       "    </tr>\n",
       "    <tr>\n",
       "      <th>27</th>\n",
       "      <td>Cyberpunk 2077</td>\n",
       "      <td>4.5</td>\n",
       "      <td>NaN</td>\n",
       "      <td>2020-12-01</td>\n",
       "      <td>Action role-playing</td>\n",
       "      <td>CD Projekt Red</td>\n",
       "      <td>CD Projekt</td>\n",
       "    </tr>\n",
       "    <tr>\n",
       "      <th>20</th>\n",
       "      <td>Valheim</td>\n",
       "      <td>6.0</td>\n",
       "      <td>NaN</td>\n",
       "      <td>2021-02-01</td>\n",
       "      <td>Survival</td>\n",
       "      <td>Iron Gate</td>\n",
       "      <td>Coffee Stain Publishing</td>\n",
       "    </tr>\n",
       "  </tbody>\n",
       "</table>\n",
       "<p>175 rows × 7 columns</p>\n",
       "</div>"
      ],
      "text/plain": [
       "                                       Name  Sales                Series  \\\n",
       "133                                 Hydlide    1.0               Hydlide   \n",
       "34   Where in the World Is Carmen Sandiego?    4.0       Carmen Sandiego   \n",
       "88                     International Karate    1.5  International Karate   \n",
       "162                                  Tetris    1.0                Tetris   \n",
       "22                             Last Ninja 2    5.5        The Last Ninja   \n",
       "..                                      ...    ...                   ...   \n",
       "139                                 Mordhau    1.0                   NaN   \n",
       "10                                Fall Guys   10.0                   NaN   \n",
       "110                      Crusader Kings III    1.0        Crusader Kings   \n",
       "27                           Cyberpunk 2077    4.5                   NaN   \n",
       "20                                  Valheim    6.0                   NaN   \n",
       "\n",
       "       Release                Genre                              Developer  \\\n",
       "133 1984-12-01  Action role-playing  Technology and Entertainment Software   \n",
       "34  1985-06-01          Educational                             Broderbund   \n",
       "88  1985-11-01             Fighting                               System 3   \n",
       "162 1988-01-01               Puzzle                      Spectrum HoloByte   \n",
       "22  1988-08-01     Action-adventure                               System 3   \n",
       "..         ...                  ...                                    ...   \n",
       "139 2019-04-01               Action                             Triternion   \n",
       "10  2020-08-01        Battle royale                             Mediatonic   \n",
       "110 2020-09-01       Grand strategy             Paradox Development Studio   \n",
       "27  2020-12-01  Action role-playing                         CD Projekt Red   \n",
       "20  2021-02-01             Survival                              Iron Gate   \n",
       "\n",
       "                                 Publisher  \n",
       "133  Technology and Entertainment Software  \n",
       "34                              Broderbund  \n",
       "88                                    Epyx  \n",
       "162                      Spectrum HoloByte  \n",
       "22                              Activision  \n",
       "..                                     ...  \n",
       "139                             Triternion  \n",
       "10                        Devolver Digital  \n",
       "110                    Paradox Interactive  \n",
       "27                              CD Projekt  \n",
       "20                 Coffee Stain Publishing  \n",
       "\n",
       "[175 rows x 7 columns]"
      ]
     },
     "execution_count": 57,
     "metadata": {},
     "output_type": "execute_result"
    }
   ],
   "source": [
    "## Which game is the oldest and the newest games in that dataset?\n",
    "sorted_release = df.sort_values(by=\"Release\")\n",
    "sorted_release"
   ]
  },
  {
   "cell_type": "markdown",
   "id": "2fa1778d",
   "metadata": {},
   "source": [
    "Hydlide is the oldest game and Valheim is the newest game"
   ]
  },
  {
   "cell_type": "code",
   "execution_count": 58,
   "id": "0017aafd",
   "metadata": {},
   "outputs": [
    {
     "data": {
      "text/plain": [
       "Electronic Arts           19\n",
       "Blizzard Entertainment     8\n",
       "Paradox Interactive        7\n",
       "Activision                 6\n",
       "GT Interactive             5\n",
       "                          ..\n",
       "Landfall Games             1\n",
       "Headup Games               1\n",
       "Atari, Inc                 1\n",
       "Konami                     1\n",
       "Blue Fang Games            1\n",
       "Name: Publisher, Length: 96, dtype: int64"
      ]
     },
     "execution_count": 58,
     "metadata": {},
     "output_type": "execute_result"
    }
   ],
   "source": [
    "# Which publisher published most of the games ?\n",
    "df[\"Publisher\"].value_counts()"
   ]
  },
  {
   "cell_type": "markdown",
   "id": "e1ea57bc",
   "metadata": {},
   "source": [
    "Electronic Arts is the most publisher published games"
   ]
  },
  {
   "cell_type": "code",
   "execution_count": 59,
   "id": "5c0281d6",
   "metadata": {},
   "outputs": [
    {
     "data": {
      "text/plain": [
       "Blizzard Entertainment             8\n",
       "Maxis                              6\n",
       "Paradox Development Studio         5\n",
       "id Software                        4\n",
       "Westwood Studios                   4\n",
       "                                  ..\n",
       "Kojima Productions                 1\n",
       "Edmund McMillen & Florian Himsl    1\n",
       "Landfall Games                     1\n",
       "Keen Software House                1\n",
       "Microsoft                          1\n",
       "Name: Developer, Length: 109, dtype: int64"
      ]
     },
     "execution_count": 59,
     "metadata": {},
     "output_type": "execute_result"
    }
   ],
   "source": [
    "#Which developer developed most of the games ?\n",
    "df[\"Developer\"].value_counts()"
   ]
  },
  {
   "cell_type": "markdown",
   "id": "1e2f38d4",
   "metadata": {},
   "source": [
    "Blizzard Entertainment is the most developer developed the games"
   ]
  },
  {
   "cell_type": "code",
   "execution_count": 60,
   "id": "8d4c6618",
   "metadata": {},
   "outputs": [
    {
     "name": "stdout",
     "output_type": "stream",
     "text": [
      "Minecraft  Has the most sales\n"
     ]
    }
   ],
   "source": [
    "#Which series has the most sales ?\n",
    "most_sales = df.groupby(\"Series\")[\"Sales\"].sum()\n",
    "series_with_the_most_sales = most_sales.idxmax()\n",
    "\n",
    "print(series_with_the_most_sales,\" Has the most sales\")"
   ]
  },
  {
   "cell_type": "code",
   "execution_count": 61,
   "id": "a4a6e805",
   "metadata": {},
   "outputs": [
    {
     "name": "stdout",
     "output_type": "stream",
     "text": [
      "Series with the Most Games: Command & Conquer\n"
     ]
    }
   ],
   "source": [
    "#Which series have the most games ?\n",
    "games_count_by_series = df.groupby('Series')['Name'].count()\n",
    "\n",
    "series_with_most_games = games_count_by_series.idxmax()\n",
    "\n",
    "print(\"Series with the Most Games:\", series_with_most_games)"
   ]
  }
 ],
 "metadata": {
  "kernelspec": {
   "display_name": "Python 3 (ipykernel)",
   "language": "python",
   "name": "python3"
  },
  "language_info": {
   "codemirror_mode": {
    "name": "ipython",
    "version": 3
   },
   "file_extension": ".py",
   "mimetype": "text/x-python",
   "name": "python",
   "nbconvert_exporter": "python",
   "pygments_lexer": "ipython3",
   "version": "3.9.12"
  },
  "toc": {
   "base_numbering": 1,
   "nav_menu": {},
   "number_sections": true,
   "sideBar": true,
   "skip_h1_title": false,
   "title_cell": "Table of Contents",
   "title_sidebar": "Contents",
   "toc_cell": false,
   "toc_position": {},
   "toc_section_display": true,
   "toc_window_display": false
  },
  "varInspector": {
   "cols": {
    "lenName": 16,
    "lenType": 16,
    "lenVar": 40
   },
   "kernels_config": {
    "python": {
     "delete_cmd_postfix": "",
     "delete_cmd_prefix": "del ",
     "library": "var_list.py",
     "varRefreshCmd": "print(var_dic_list())"
    },
    "r": {
     "delete_cmd_postfix": ") ",
     "delete_cmd_prefix": "rm(",
     "library": "var_list.r",
     "varRefreshCmd": "cat(var_dic_list()) "
    }
   },
   "types_to_exclude": [
    "module",
    "function",
    "builtin_function_or_method",
    "instance",
    "_Feature"
   ],
   "window_display": false
  }
 },
 "nbformat": 4,
 "nbformat_minor": 5
}
